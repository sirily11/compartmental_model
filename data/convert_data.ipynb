{
 "cells": [
  {
   "cell_type": "code",
   "execution_count": 1,
   "metadata": {
    "collapsed": true
   },
   "outputs": [],
   "source": [
    "import pandas as pd"
   ]
  },
  {
   "cell_type": "code",
   "execution_count": 49,
   "outputs": [
    {
     "output_type": "execute_result",
     "data": {
      "text/plain": [
       "       LocID     Location  VarID Variant       Time  MidPeriod    TFR    NRR  \\\n",
       "0          4  Afghanistan      2  Medium  1950-1955       1953  7.450  1.636   \n",
       "1          4  Afghanistan      2  Medium  1955-1960       1958  7.450  1.765   \n",
       "2          4  Afghanistan      2  Medium  1960-1965       1963  7.450  1.899   \n",
       "3          4  Afghanistan      2  Medium  1965-1970       1968  7.450  2.017   \n",
       "4          4  Afghanistan      2  Medium  1970-1975       1973  7.450  2.141   \n",
       "...      ...          ...    ...     ...        ...        ...    ...    ...   \n",
       "14935    716     Zimbabwe      2  Medium  2075-2080       2078  1.913  0.919   \n",
       "14936    716     Zimbabwe      2  Medium  2080-2085       2083  1.877  0.903   \n",
       "14937    716     Zimbabwe      2  Medium  2085-2090       2088  1.849  0.891   \n",
       "14938    716     Zimbabwe      2  Medium  2090-2095       2093  1.831  0.883   \n",
       "14939    716     Zimbabwe      2  Medium  2095-2100       2098  1.816  0.876   \n",
       "\n",
       "          CBR    Births  ...     CDR    Deaths  DeathsMale  DeathsFemale  \\\n",
       "0      50.314  2015.476  ...  36.862  1476.605     794.020       682.585   \n",
       "1      50.998  2201.589  ...  33.718  1455.605     783.110       672.495   \n",
       "2      51.477  2439.130  ...  30.808  1459.784     777.437       682.347   \n",
       "3      51.646  2728.221  ...  28.223  1490.896     790.745       700.151   \n",
       "4      51.234  3056.451  ...  25.495  1520.938     802.414       718.524   \n",
       "...       ...       ...  ...     ...       ...         ...           ...   \n",
       "14935  14.153  2100.753  ...   9.407  1396.229     729.240       666.989   \n",
       "14936  13.429  2030.941  ...  10.001  1512.603     794.805       717.798   \n",
       "14937  12.867  1970.518  ...  10.631  1627.991     853.756       774.235   \n",
       "14938  12.492  1926.925  ...  11.191  1726.185     899.147       827.038   \n",
       "14939  12.194  1886.759  ...  11.611  1796.481     927.691       868.790   \n",
       "\n",
       "        CNMR  NetMigrations  GrowthRate  NatIncr    SRB     MAC  \n",
       "0     -0.499          -20.0       1.296   13.452  1.060  29.835  \n",
       "1     -0.463          -20.0       1.683   17.280  1.060  29.835  \n",
       "2     -0.422          -20.0       2.026   20.669  1.060  29.835  \n",
       "3     -0.379          -20.0       2.307   23.423  1.060  29.835  \n",
       "4     -0.335          -20.0       2.544   25.739  1.060  29.835  \n",
       "...      ...            ...         ...      ...    ...     ...  \n",
       "14935 -0.337          -50.0       0.441    4.746  1.021  29.872  \n",
       "14936 -0.331          -50.0       0.310    3.428  1.021  29.984  \n",
       "14937 -0.326          -50.0       0.191    2.236  1.021  30.094  \n",
       "14938 -0.324          -50.0       0.098    1.301  1.021  30.201  \n",
       "14939 -0.323          -50.0       0.026    0.583  1.021  30.307  \n",
       "\n",
       "[14940 rows x 25 columns]"
      ],
      "text/html": "<div>\n<style scoped>\n    .dataframe tbody tr th:only-of-type {\n        vertical-align: middle;\n    }\n\n    .dataframe tbody tr th {\n        vertical-align: top;\n    }\n\n    .dataframe thead th {\n        text-align: right;\n    }\n</style>\n<table border=\"1\" class=\"dataframe\">\n  <thead>\n    <tr style=\"text-align: right;\">\n      <th></th>\n      <th>LocID</th>\n      <th>Location</th>\n      <th>VarID</th>\n      <th>Variant</th>\n      <th>Time</th>\n      <th>MidPeriod</th>\n      <th>TFR</th>\n      <th>NRR</th>\n      <th>CBR</th>\n      <th>Births</th>\n      <th>...</th>\n      <th>CDR</th>\n      <th>Deaths</th>\n      <th>DeathsMale</th>\n      <th>DeathsFemale</th>\n      <th>CNMR</th>\n      <th>NetMigrations</th>\n      <th>GrowthRate</th>\n      <th>NatIncr</th>\n      <th>SRB</th>\n      <th>MAC</th>\n    </tr>\n  </thead>\n  <tbody>\n    <tr>\n      <th>0</th>\n      <td>4</td>\n      <td>Afghanistan</td>\n      <td>2</td>\n      <td>Medium</td>\n      <td>1950-1955</td>\n      <td>1953</td>\n      <td>7.450</td>\n      <td>1.636</td>\n      <td>50.314</td>\n      <td>2015.476</td>\n      <td>...</td>\n      <td>36.862</td>\n      <td>1476.605</td>\n      <td>794.020</td>\n      <td>682.585</td>\n      <td>-0.499</td>\n      <td>-20.0</td>\n      <td>1.296</td>\n      <td>13.452</td>\n      <td>1.060</td>\n      <td>29.835</td>\n    </tr>\n    <tr>\n      <th>1</th>\n      <td>4</td>\n      <td>Afghanistan</td>\n      <td>2</td>\n      <td>Medium</td>\n      <td>1955-1960</td>\n      <td>1958</td>\n      <td>7.450</td>\n      <td>1.765</td>\n      <td>50.998</td>\n      <td>2201.589</td>\n      <td>...</td>\n      <td>33.718</td>\n      <td>1455.605</td>\n      <td>783.110</td>\n      <td>672.495</td>\n      <td>-0.463</td>\n      <td>-20.0</td>\n      <td>1.683</td>\n      <td>17.280</td>\n      <td>1.060</td>\n      <td>29.835</td>\n    </tr>\n    <tr>\n      <th>2</th>\n      <td>4</td>\n      <td>Afghanistan</td>\n      <td>2</td>\n      <td>Medium</td>\n      <td>1960-1965</td>\n      <td>1963</td>\n      <td>7.450</td>\n      <td>1.899</td>\n      <td>51.477</td>\n      <td>2439.130</td>\n      <td>...</td>\n      <td>30.808</td>\n      <td>1459.784</td>\n      <td>777.437</td>\n      <td>682.347</td>\n      <td>-0.422</td>\n      <td>-20.0</td>\n      <td>2.026</td>\n      <td>20.669</td>\n      <td>1.060</td>\n      <td>29.835</td>\n    </tr>\n    <tr>\n      <th>3</th>\n      <td>4</td>\n      <td>Afghanistan</td>\n      <td>2</td>\n      <td>Medium</td>\n      <td>1965-1970</td>\n      <td>1968</td>\n      <td>7.450</td>\n      <td>2.017</td>\n      <td>51.646</td>\n      <td>2728.221</td>\n      <td>...</td>\n      <td>28.223</td>\n      <td>1490.896</td>\n      <td>790.745</td>\n      <td>700.151</td>\n      <td>-0.379</td>\n      <td>-20.0</td>\n      <td>2.307</td>\n      <td>23.423</td>\n      <td>1.060</td>\n      <td>29.835</td>\n    </tr>\n    <tr>\n      <th>4</th>\n      <td>4</td>\n      <td>Afghanistan</td>\n      <td>2</td>\n      <td>Medium</td>\n      <td>1970-1975</td>\n      <td>1973</td>\n      <td>7.450</td>\n      <td>2.141</td>\n      <td>51.234</td>\n      <td>3056.451</td>\n      <td>...</td>\n      <td>25.495</td>\n      <td>1520.938</td>\n      <td>802.414</td>\n      <td>718.524</td>\n      <td>-0.335</td>\n      <td>-20.0</td>\n      <td>2.544</td>\n      <td>25.739</td>\n      <td>1.060</td>\n      <td>29.835</td>\n    </tr>\n    <tr>\n      <th>...</th>\n      <td>...</td>\n      <td>...</td>\n      <td>...</td>\n      <td>...</td>\n      <td>...</td>\n      <td>...</td>\n      <td>...</td>\n      <td>...</td>\n      <td>...</td>\n      <td>...</td>\n      <td>...</td>\n      <td>...</td>\n      <td>...</td>\n      <td>...</td>\n      <td>...</td>\n      <td>...</td>\n      <td>...</td>\n      <td>...</td>\n      <td>...</td>\n      <td>...</td>\n      <td>...</td>\n    </tr>\n    <tr>\n      <th>14935</th>\n      <td>716</td>\n      <td>Zimbabwe</td>\n      <td>2</td>\n      <td>Medium</td>\n      <td>2075-2080</td>\n      <td>2078</td>\n      <td>1.913</td>\n      <td>0.919</td>\n      <td>14.153</td>\n      <td>2100.753</td>\n      <td>...</td>\n      <td>9.407</td>\n      <td>1396.229</td>\n      <td>729.240</td>\n      <td>666.989</td>\n      <td>-0.337</td>\n      <td>-50.0</td>\n      <td>0.441</td>\n      <td>4.746</td>\n      <td>1.021</td>\n      <td>29.872</td>\n    </tr>\n    <tr>\n      <th>14936</th>\n      <td>716</td>\n      <td>Zimbabwe</td>\n      <td>2</td>\n      <td>Medium</td>\n      <td>2080-2085</td>\n      <td>2083</td>\n      <td>1.877</td>\n      <td>0.903</td>\n      <td>13.429</td>\n      <td>2030.941</td>\n      <td>...</td>\n      <td>10.001</td>\n      <td>1512.603</td>\n      <td>794.805</td>\n      <td>717.798</td>\n      <td>-0.331</td>\n      <td>-50.0</td>\n      <td>0.310</td>\n      <td>3.428</td>\n      <td>1.021</td>\n      <td>29.984</td>\n    </tr>\n    <tr>\n      <th>14937</th>\n      <td>716</td>\n      <td>Zimbabwe</td>\n      <td>2</td>\n      <td>Medium</td>\n      <td>2085-2090</td>\n      <td>2088</td>\n      <td>1.849</td>\n      <td>0.891</td>\n      <td>12.867</td>\n      <td>1970.518</td>\n      <td>...</td>\n      <td>10.631</td>\n      <td>1627.991</td>\n      <td>853.756</td>\n      <td>774.235</td>\n      <td>-0.326</td>\n      <td>-50.0</td>\n      <td>0.191</td>\n      <td>2.236</td>\n      <td>1.021</td>\n      <td>30.094</td>\n    </tr>\n    <tr>\n      <th>14938</th>\n      <td>716</td>\n      <td>Zimbabwe</td>\n      <td>2</td>\n      <td>Medium</td>\n      <td>2090-2095</td>\n      <td>2093</td>\n      <td>1.831</td>\n      <td>0.883</td>\n      <td>12.492</td>\n      <td>1926.925</td>\n      <td>...</td>\n      <td>11.191</td>\n      <td>1726.185</td>\n      <td>899.147</td>\n      <td>827.038</td>\n      <td>-0.324</td>\n      <td>-50.0</td>\n      <td>0.098</td>\n      <td>1.301</td>\n      <td>1.021</td>\n      <td>30.201</td>\n    </tr>\n    <tr>\n      <th>14939</th>\n      <td>716</td>\n      <td>Zimbabwe</td>\n      <td>2</td>\n      <td>Medium</td>\n      <td>2095-2100</td>\n      <td>2098</td>\n      <td>1.816</td>\n      <td>0.876</td>\n      <td>12.194</td>\n      <td>1886.759</td>\n      <td>...</td>\n      <td>11.611</td>\n      <td>1796.481</td>\n      <td>927.691</td>\n      <td>868.790</td>\n      <td>-0.323</td>\n      <td>-50.0</td>\n      <td>0.026</td>\n      <td>0.583</td>\n      <td>1.021</td>\n      <td>30.307</td>\n    </tr>\n  </tbody>\n</table>\n<p>14940 rows × 25 columns</p>\n</div>"
     },
     "metadata": {},
     "execution_count": 49
    }
   ],
   "source": [
    "\n",
    "df = pd.read_csv('../WPP2019_Period_Indicators_Medium.csv')\n",
    "df"
   ],
   "metadata": {
    "collapsed": false,
    "pycharm": {
     "name": "#%%\n"
    }
   }
  },
  {
   "cell_type": "code",
   "execution_count": 50,
   "metadata": {},
   "outputs": [],
   "source": [
    "df['Start Date'] = df['Time'].apply(lambda s: pd.to_datetime(s.split('-')[0]))"
   ]
  },
  {
   "cell_type": "code",
   "execution_count": 51,
   "metadata": {},
   "outputs": [],
   "source": [
    "df['End Date'] = df['Time'].apply(lambda s: pd.to_datetime(s.split('-')[1].replace('-', '')))"
   ]
  },
  {
   "cell_type": "code",
   "execution_count": 52,
   "metadata": {},
   "outputs": [
    {
     "output_type": "execute_result",
     "data": {
      "text/plain": [
       "       LocID     Location  VarID Variant       Time  MidPeriod    TFR    NRR  \\\n",
       "0          4  Afghanistan      2  Medium  1950-1955       1953  7.450  1.636   \n",
       "1          4  Afghanistan      2  Medium  1955-1960       1958  7.450  1.765   \n",
       "2          4  Afghanistan      2  Medium  1960-1965       1963  7.450  1.899   \n",
       "3          4  Afghanistan      2  Medium  1965-1970       1968  7.450  2.017   \n",
       "4          4  Afghanistan      2  Medium  1970-1975       1973  7.450  2.141   \n",
       "...      ...          ...    ...     ...        ...        ...    ...    ...   \n",
       "14935    716     Zimbabwe      2  Medium  2075-2080       2078  1.913  0.919   \n",
       "14936    716     Zimbabwe      2  Medium  2080-2085       2083  1.877  0.903   \n",
       "14937    716     Zimbabwe      2  Medium  2085-2090       2088  1.849  0.891   \n",
       "14938    716     Zimbabwe      2  Medium  2090-2095       2093  1.831  0.883   \n",
       "14939    716     Zimbabwe      2  Medium  2095-2100       2098  1.816  0.876   \n",
       "\n",
       "          CBR    Births  ...  DeathsMale  DeathsFemale   CNMR  NetMigrations  \\\n",
       "0      50.314  2015.476  ...     794.020       682.585 -0.499          -20.0   \n",
       "1      50.998  2201.589  ...     783.110       672.495 -0.463          -20.0   \n",
       "2      51.477  2439.130  ...     777.437       682.347 -0.422          -20.0   \n",
       "3      51.646  2728.221  ...     790.745       700.151 -0.379          -20.0   \n",
       "4      51.234  3056.451  ...     802.414       718.524 -0.335          -20.0   \n",
       "...       ...       ...  ...         ...           ...    ...            ...   \n",
       "14935  14.153  2100.753  ...     729.240       666.989 -0.337          -50.0   \n",
       "14936  13.429  2030.941  ...     794.805       717.798 -0.331          -50.0   \n",
       "14937  12.867  1970.518  ...     853.756       774.235 -0.326          -50.0   \n",
       "14938  12.492  1926.925  ...     899.147       827.038 -0.324          -50.0   \n",
       "14939  12.194  1886.759  ...     927.691       868.790 -0.323          -50.0   \n",
       "\n",
       "       GrowthRate  NatIncr    SRB     MAC  Start Date   End Date  \n",
       "0           1.296   13.452  1.060  29.835  1950-01-01 1955-01-01  \n",
       "1           1.683   17.280  1.060  29.835  1955-01-01 1960-01-01  \n",
       "2           2.026   20.669  1.060  29.835  1960-01-01 1965-01-01  \n",
       "3           2.307   23.423  1.060  29.835  1965-01-01 1970-01-01  \n",
       "4           2.544   25.739  1.060  29.835  1970-01-01 1975-01-01  \n",
       "...           ...      ...    ...     ...         ...        ...  \n",
       "14935       0.441    4.746  1.021  29.872  2075-01-01 2080-01-01  \n",
       "14936       0.310    3.428  1.021  29.984  2080-01-01 2085-01-01  \n",
       "14937       0.191    2.236  1.021  30.094  2085-01-01 2090-01-01  \n",
       "14938       0.098    1.301  1.021  30.201  2090-01-01 2095-01-01  \n",
       "14939       0.026    0.583  1.021  30.307  2095-01-01 2100-01-01  \n",
       "\n",
       "[14940 rows x 27 columns]"
      ],
      "text/html": "<div>\n<style scoped>\n    .dataframe tbody tr th:only-of-type {\n        vertical-align: middle;\n    }\n\n    .dataframe tbody tr th {\n        vertical-align: top;\n    }\n\n    .dataframe thead th {\n        text-align: right;\n    }\n</style>\n<table border=\"1\" class=\"dataframe\">\n  <thead>\n    <tr style=\"text-align: right;\">\n      <th></th>\n      <th>LocID</th>\n      <th>Location</th>\n      <th>VarID</th>\n      <th>Variant</th>\n      <th>Time</th>\n      <th>MidPeriod</th>\n      <th>TFR</th>\n      <th>NRR</th>\n      <th>CBR</th>\n      <th>Births</th>\n      <th>...</th>\n      <th>DeathsMale</th>\n      <th>DeathsFemale</th>\n      <th>CNMR</th>\n      <th>NetMigrations</th>\n      <th>GrowthRate</th>\n      <th>NatIncr</th>\n      <th>SRB</th>\n      <th>MAC</th>\n      <th>Start Date</th>\n      <th>End Date</th>\n    </tr>\n  </thead>\n  <tbody>\n    <tr>\n      <th>0</th>\n      <td>4</td>\n      <td>Afghanistan</td>\n      <td>2</td>\n      <td>Medium</td>\n      <td>1950-1955</td>\n      <td>1953</td>\n      <td>7.450</td>\n      <td>1.636</td>\n      <td>50.314</td>\n      <td>2015.476</td>\n      <td>...</td>\n      <td>794.020</td>\n      <td>682.585</td>\n      <td>-0.499</td>\n      <td>-20.0</td>\n      <td>1.296</td>\n      <td>13.452</td>\n      <td>1.060</td>\n      <td>29.835</td>\n      <td>1950-01-01</td>\n      <td>1955-01-01</td>\n    </tr>\n    <tr>\n      <th>1</th>\n      <td>4</td>\n      <td>Afghanistan</td>\n      <td>2</td>\n      <td>Medium</td>\n      <td>1955-1960</td>\n      <td>1958</td>\n      <td>7.450</td>\n      <td>1.765</td>\n      <td>50.998</td>\n      <td>2201.589</td>\n      <td>...</td>\n      <td>783.110</td>\n      <td>672.495</td>\n      <td>-0.463</td>\n      <td>-20.0</td>\n      <td>1.683</td>\n      <td>17.280</td>\n      <td>1.060</td>\n      <td>29.835</td>\n      <td>1955-01-01</td>\n      <td>1960-01-01</td>\n    </tr>\n    <tr>\n      <th>2</th>\n      <td>4</td>\n      <td>Afghanistan</td>\n      <td>2</td>\n      <td>Medium</td>\n      <td>1960-1965</td>\n      <td>1963</td>\n      <td>7.450</td>\n      <td>1.899</td>\n      <td>51.477</td>\n      <td>2439.130</td>\n      <td>...</td>\n      <td>777.437</td>\n      <td>682.347</td>\n      <td>-0.422</td>\n      <td>-20.0</td>\n      <td>2.026</td>\n      <td>20.669</td>\n      <td>1.060</td>\n      <td>29.835</td>\n      <td>1960-01-01</td>\n      <td>1965-01-01</td>\n    </tr>\n    <tr>\n      <th>3</th>\n      <td>4</td>\n      <td>Afghanistan</td>\n      <td>2</td>\n      <td>Medium</td>\n      <td>1965-1970</td>\n      <td>1968</td>\n      <td>7.450</td>\n      <td>2.017</td>\n      <td>51.646</td>\n      <td>2728.221</td>\n      <td>...</td>\n      <td>790.745</td>\n      <td>700.151</td>\n      <td>-0.379</td>\n      <td>-20.0</td>\n      <td>2.307</td>\n      <td>23.423</td>\n      <td>1.060</td>\n      <td>29.835</td>\n      <td>1965-01-01</td>\n      <td>1970-01-01</td>\n    </tr>\n    <tr>\n      <th>4</th>\n      <td>4</td>\n      <td>Afghanistan</td>\n      <td>2</td>\n      <td>Medium</td>\n      <td>1970-1975</td>\n      <td>1973</td>\n      <td>7.450</td>\n      <td>2.141</td>\n      <td>51.234</td>\n      <td>3056.451</td>\n      <td>...</td>\n      <td>802.414</td>\n      <td>718.524</td>\n      <td>-0.335</td>\n      <td>-20.0</td>\n      <td>2.544</td>\n      <td>25.739</td>\n      <td>1.060</td>\n      <td>29.835</td>\n      <td>1970-01-01</td>\n      <td>1975-01-01</td>\n    </tr>\n    <tr>\n      <th>...</th>\n      <td>...</td>\n      <td>...</td>\n      <td>...</td>\n      <td>...</td>\n      <td>...</td>\n      <td>...</td>\n      <td>...</td>\n      <td>...</td>\n      <td>...</td>\n      <td>...</td>\n      <td>...</td>\n      <td>...</td>\n      <td>...</td>\n      <td>...</td>\n      <td>...</td>\n      <td>...</td>\n      <td>...</td>\n      <td>...</td>\n      <td>...</td>\n      <td>...</td>\n      <td>...</td>\n    </tr>\n    <tr>\n      <th>14935</th>\n      <td>716</td>\n      <td>Zimbabwe</td>\n      <td>2</td>\n      <td>Medium</td>\n      <td>2075-2080</td>\n      <td>2078</td>\n      <td>1.913</td>\n      <td>0.919</td>\n      <td>14.153</td>\n      <td>2100.753</td>\n      <td>...</td>\n      <td>729.240</td>\n      <td>666.989</td>\n      <td>-0.337</td>\n      <td>-50.0</td>\n      <td>0.441</td>\n      <td>4.746</td>\n      <td>1.021</td>\n      <td>29.872</td>\n      <td>2075-01-01</td>\n      <td>2080-01-01</td>\n    </tr>\n    <tr>\n      <th>14936</th>\n      <td>716</td>\n      <td>Zimbabwe</td>\n      <td>2</td>\n      <td>Medium</td>\n      <td>2080-2085</td>\n      <td>2083</td>\n      <td>1.877</td>\n      <td>0.903</td>\n      <td>13.429</td>\n      <td>2030.941</td>\n      <td>...</td>\n      <td>794.805</td>\n      <td>717.798</td>\n      <td>-0.331</td>\n      <td>-50.0</td>\n      <td>0.310</td>\n      <td>3.428</td>\n      <td>1.021</td>\n      <td>29.984</td>\n      <td>2080-01-01</td>\n      <td>2085-01-01</td>\n    </tr>\n    <tr>\n      <th>14937</th>\n      <td>716</td>\n      <td>Zimbabwe</td>\n      <td>2</td>\n      <td>Medium</td>\n      <td>2085-2090</td>\n      <td>2088</td>\n      <td>1.849</td>\n      <td>0.891</td>\n      <td>12.867</td>\n      <td>1970.518</td>\n      <td>...</td>\n      <td>853.756</td>\n      <td>774.235</td>\n      <td>-0.326</td>\n      <td>-50.0</td>\n      <td>0.191</td>\n      <td>2.236</td>\n      <td>1.021</td>\n      <td>30.094</td>\n      <td>2085-01-01</td>\n      <td>2090-01-01</td>\n    </tr>\n    <tr>\n      <th>14938</th>\n      <td>716</td>\n      <td>Zimbabwe</td>\n      <td>2</td>\n      <td>Medium</td>\n      <td>2090-2095</td>\n      <td>2093</td>\n      <td>1.831</td>\n      <td>0.883</td>\n      <td>12.492</td>\n      <td>1926.925</td>\n      <td>...</td>\n      <td>899.147</td>\n      <td>827.038</td>\n      <td>-0.324</td>\n      <td>-50.0</td>\n      <td>0.098</td>\n      <td>1.301</td>\n      <td>1.021</td>\n      <td>30.201</td>\n      <td>2090-01-01</td>\n      <td>2095-01-01</td>\n    </tr>\n    <tr>\n      <th>14939</th>\n      <td>716</td>\n      <td>Zimbabwe</td>\n      <td>2</td>\n      <td>Medium</td>\n      <td>2095-2100</td>\n      <td>2098</td>\n      <td>1.816</td>\n      <td>0.876</td>\n      <td>12.194</td>\n      <td>1886.759</td>\n      <td>...</td>\n      <td>927.691</td>\n      <td>868.790</td>\n      <td>-0.323</td>\n      <td>-50.0</td>\n      <td>0.026</td>\n      <td>0.583</td>\n      <td>1.021</td>\n      <td>30.307</td>\n      <td>2095-01-01</td>\n      <td>2100-01-01</td>\n    </tr>\n  </tbody>\n</table>\n<p>14940 rows × 27 columns</p>\n</div>"
     },
     "metadata": {},
     "execution_count": 52
    }
   ],
   "source": [
    "df"
   ]
  },
  {
   "cell_type": "code",
   "execution_count": 53,
   "metadata": {},
   "outputs": [],
   "source": [
    "df['Date'] = [pd.date_range(s, e, freq='y') for s, e in zip(df['Start Date'], df['End Date'])]"
   ]
  },
  {
   "cell_type": "code",
   "execution_count": 54,
   "metadata": {},
   "outputs": [],
   "source": [
    "df = df.drop(columns=['Start Date', 'End Date', 'Time'])"
   ]
  },
  {
   "cell_type": "code",
   "execution_count": 55,
   "metadata": {},
   "outputs": [
    {
     "output_type": "execute_result",
     "data": {
      "text/plain": [
       "    LocID     Location  VarID Variant  MidPeriod    TFR    NRR     CBR  \\\n",
       "0       4  Afghanistan      2  Medium       1953  7.450  1.636  50.314   \n",
       "1       4  Afghanistan      2  Medium       1958  7.450  1.765  50.998   \n",
       "2       4  Afghanistan      2  Medium       1963  7.450  1.899  51.477   \n",
       "3       4  Afghanistan      2  Medium       1968  7.450  2.017  51.646   \n",
       "4       4  Afghanistan      2  Medium       1973  7.450  2.141  51.234   \n",
       "5       4  Afghanistan      2  Medium       1978  7.450  2.275  50.599   \n",
       "6       4  Afghanistan      2  Medium       1983  7.450  2.426  50.039   \n",
       "7       4  Afghanistan      2  Medium       1988  7.469  2.593  49.391   \n",
       "8       4  Afghanistan      2  Medium       1993  7.482  2.749  48.511   \n",
       "9       4  Afghanistan      2  Medium       1998  7.654  2.937  48.908   \n",
       "10      4  Afghanistan      2  Medium       2003  7.182  2.852  46.466   \n",
       "11      4  Afghanistan      2  Medium       2008  6.478  2.666  42.513   \n",
       "12      4  Afghanistan      2  Medium       2013  5.447  2.319  37.098   \n",
       "13      4  Afghanistan      2  Medium       2018  4.555  1.984  32.856   \n",
       "14      4  Afghanistan      2  Medium       2023  3.851  1.710  29.680   \n",
       "15      4  Afghanistan      2  Medium       2028  3.301  1.488  26.878   \n",
       "16      4  Afghanistan      2  Medium       2033  2.908  1.326  24.429   \n",
       "17      4  Afghanistan      2  Medium       2038  2.632  1.211  22.235   \n",
       "18      4  Afghanistan      2  Medium       2043  2.426  1.125  20.241   \n",
       "19      4  Afghanistan      2  Medium       2048  2.260  1.053  18.435   \n",
       "\n",
       "      Births    LEx  ...    Deaths  DeathsMale  DeathsFemale    CNMR  \\\n",
       "0   2015.476  28.61  ...  1476.605     794.020       682.585  -0.499   \n",
       "1   2201.589  31.13  ...  1455.605     783.110       672.495  -0.463   \n",
       "2   2439.130  33.74  ...  1459.784     777.437       682.347  -0.422   \n",
       "3   2728.221  36.15  ...  1490.896     790.745       700.151  -0.379   \n",
       "4   3056.451  38.74  ...  1520.938     802.414       718.524  -0.335   \n",
       "5   3294.738  41.63  ...  1473.434     775.431       698.003 -17.722   \n",
       "6   3164.281  44.97  ...  1237.477     651.457       586.020 -52.898   \n",
       "7   3006.757  48.56  ...  1007.309     531.357       475.952 -25.057   \n",
       "8   3701.778  51.96  ...  1079.813     573.875       505.938  40.316   \n",
       "9   4755.189  54.67  ...  1218.352     650.627       567.725  -8.923   \n",
       "10  5394.050  57.00  ...  1263.923     675.302       588.621   6.411   \n",
       "11  5828.482  59.63  ...  1250.888     669.978       580.910  -7.632   \n",
       "12  5898.490  62.32  ...  1192.155     641.196       550.959   3.282   \n",
       "13  6024.265  64.28  ...  1194.929     646.140       548.789  -1.716   \n",
       "14  6118.618  65.97  ...  1215.439     660.197       555.242  -1.455   \n",
       "15  6156.694  67.38  ...  1264.548     691.018       573.530  -1.441   \n",
       "16  6148.908  68.55  ...  1343.278     738.962       604.316  -1.239   \n",
       "17  6086.715  69.57  ...  1450.316     802.852       647.464  -1.139   \n",
       "18  5965.370  70.47  ...  1592.187     885.988       706.199  -1.056   \n",
       "19  5791.247  71.28  ...  1772.304     989.964       782.340  -0.987   \n",
       "\n",
       "    NetMigrations  GrowthRate  NatIncr   SRB     MAC  \\\n",
       "0         -20.000       1.296   13.452  1.06  29.835   \n",
       "1         -20.000       1.683   17.280  1.06  29.835   \n",
       "2         -20.000       2.026   20.669  1.06  29.835   \n",
       "3         -20.000       2.307   23.423  1.06  29.835   \n",
       "4         -20.000       2.544   25.739  1.06  29.835   \n",
       "5       -1153.959       1.025   27.971  1.06  29.871   \n",
       "6       -3345.095      -2.245   30.470  1.06  29.904   \n",
       "7       -1525.351       0.779   32.844  1.06  29.917   \n",
       "8        3076.383       7.556   34.360  1.06  29.884   \n",
       "9        -867.540       2.750   36.377  1.06  29.779   \n",
       "10        744.193       4.214   35.578  1.06  29.582   \n",
       "11      -1046.361       2.579   33.389  1.06  29.563   \n",
       "12        521.769       3.296   29.600  1.06  29.377   \n",
       "13       -314.602       2.465   26.339  1.06  29.427   \n",
       "14       -300.000       2.235   23.784  1.06  29.357   \n",
       "15       -330.092       1.993   21.357  1.06  29.297   \n",
       "16       -311.796       1.787   19.092  1.06  29.250   \n",
       "17       -311.802       1.581   16.937  1.06  29.216   \n",
       "18       -311.082       1.379   14.839  1.06  29.197   \n",
       "19       -310.076       1.181   12.793  1.06  29.194   \n",
       "\n",
       "                                                 Date  \n",
       "0   DatetimeIndex(['1950-12-31', '1951-12-31', '19...  \n",
       "1   DatetimeIndex(['1955-12-31', '1956-12-31', '19...  \n",
       "2   DatetimeIndex(['1960-12-31', '1961-12-31', '19...  \n",
       "3   DatetimeIndex(['1965-12-31', '1966-12-31', '19...  \n",
       "4   DatetimeIndex(['1970-12-31', '1971-12-31', '19...  \n",
       "5   DatetimeIndex(['1975-12-31', '1976-12-31', '19...  \n",
       "6   DatetimeIndex(['1980-12-31', '1981-12-31', '19...  \n",
       "7   DatetimeIndex(['1985-12-31', '1986-12-31', '19...  \n",
       "8   DatetimeIndex(['1990-12-31', '1991-12-31', '19...  \n",
       "9   DatetimeIndex(['1995-12-31', '1996-12-31', '19...  \n",
       "10  DatetimeIndex(['2000-12-31', '2001-12-31', '20...  \n",
       "11  DatetimeIndex(['2005-12-31', '2006-12-31', '20...  \n",
       "12  DatetimeIndex(['2010-12-31', '2011-12-31', '20...  \n",
       "13  DatetimeIndex(['2015-12-31', '2016-12-31', '20...  \n",
       "14  DatetimeIndex(['2020-12-31', '2021-12-31', '20...  \n",
       "15  DatetimeIndex(['2025-12-31', '2026-12-31', '20...  \n",
       "16  DatetimeIndex(['2030-12-31', '2031-12-31', '20...  \n",
       "17  DatetimeIndex(['2035-12-31', '2036-12-31', '20...  \n",
       "18  DatetimeIndex(['2040-12-31', '2041-12-31', '20...  \n",
       "19  DatetimeIndex(['2045-12-31', '2046-12-31', '20...  \n",
       "\n",
       "[20 rows x 25 columns]"
      ],
      "text/html": "<div>\n<style scoped>\n    .dataframe tbody tr th:only-of-type {\n        vertical-align: middle;\n    }\n\n    .dataframe tbody tr th {\n        vertical-align: top;\n    }\n\n    .dataframe thead th {\n        text-align: right;\n    }\n</style>\n<table border=\"1\" class=\"dataframe\">\n  <thead>\n    <tr style=\"text-align: right;\">\n      <th></th>\n      <th>LocID</th>\n      <th>Location</th>\n      <th>VarID</th>\n      <th>Variant</th>\n      <th>MidPeriod</th>\n      <th>TFR</th>\n      <th>NRR</th>\n      <th>CBR</th>\n      <th>Births</th>\n      <th>LEx</th>\n      <th>...</th>\n      <th>Deaths</th>\n      <th>DeathsMale</th>\n      <th>DeathsFemale</th>\n      <th>CNMR</th>\n      <th>NetMigrations</th>\n      <th>GrowthRate</th>\n      <th>NatIncr</th>\n      <th>SRB</th>\n      <th>MAC</th>\n      <th>Date</th>\n    </tr>\n  </thead>\n  <tbody>\n    <tr>\n      <th>0</th>\n      <td>4</td>\n      <td>Afghanistan</td>\n      <td>2</td>\n      <td>Medium</td>\n      <td>1953</td>\n      <td>7.450</td>\n      <td>1.636</td>\n      <td>50.314</td>\n      <td>2015.476</td>\n      <td>28.61</td>\n      <td>...</td>\n      <td>1476.605</td>\n      <td>794.020</td>\n      <td>682.585</td>\n      <td>-0.499</td>\n      <td>-20.000</td>\n      <td>1.296</td>\n      <td>13.452</td>\n      <td>1.06</td>\n      <td>29.835</td>\n      <td>DatetimeIndex(['1950-12-31', '1951-12-31', '19...</td>\n    </tr>\n    <tr>\n      <th>1</th>\n      <td>4</td>\n      <td>Afghanistan</td>\n      <td>2</td>\n      <td>Medium</td>\n      <td>1958</td>\n      <td>7.450</td>\n      <td>1.765</td>\n      <td>50.998</td>\n      <td>2201.589</td>\n      <td>31.13</td>\n      <td>...</td>\n      <td>1455.605</td>\n      <td>783.110</td>\n      <td>672.495</td>\n      <td>-0.463</td>\n      <td>-20.000</td>\n      <td>1.683</td>\n      <td>17.280</td>\n      <td>1.06</td>\n      <td>29.835</td>\n      <td>DatetimeIndex(['1955-12-31', '1956-12-31', '19...</td>\n    </tr>\n    <tr>\n      <th>2</th>\n      <td>4</td>\n      <td>Afghanistan</td>\n      <td>2</td>\n      <td>Medium</td>\n      <td>1963</td>\n      <td>7.450</td>\n      <td>1.899</td>\n      <td>51.477</td>\n      <td>2439.130</td>\n      <td>33.74</td>\n      <td>...</td>\n      <td>1459.784</td>\n      <td>777.437</td>\n      <td>682.347</td>\n      <td>-0.422</td>\n      <td>-20.000</td>\n      <td>2.026</td>\n      <td>20.669</td>\n      <td>1.06</td>\n      <td>29.835</td>\n      <td>DatetimeIndex(['1960-12-31', '1961-12-31', '19...</td>\n    </tr>\n    <tr>\n      <th>3</th>\n      <td>4</td>\n      <td>Afghanistan</td>\n      <td>2</td>\n      <td>Medium</td>\n      <td>1968</td>\n      <td>7.450</td>\n      <td>2.017</td>\n      <td>51.646</td>\n      <td>2728.221</td>\n      <td>36.15</td>\n      <td>...</td>\n      <td>1490.896</td>\n      <td>790.745</td>\n      <td>700.151</td>\n      <td>-0.379</td>\n      <td>-20.000</td>\n      <td>2.307</td>\n      <td>23.423</td>\n      <td>1.06</td>\n      <td>29.835</td>\n      <td>DatetimeIndex(['1965-12-31', '1966-12-31', '19...</td>\n    </tr>\n    <tr>\n      <th>4</th>\n      <td>4</td>\n      <td>Afghanistan</td>\n      <td>2</td>\n      <td>Medium</td>\n      <td>1973</td>\n      <td>7.450</td>\n      <td>2.141</td>\n      <td>51.234</td>\n      <td>3056.451</td>\n      <td>38.74</td>\n      <td>...</td>\n      <td>1520.938</td>\n      <td>802.414</td>\n      <td>718.524</td>\n      <td>-0.335</td>\n      <td>-20.000</td>\n      <td>2.544</td>\n      <td>25.739</td>\n      <td>1.06</td>\n      <td>29.835</td>\n      <td>DatetimeIndex(['1970-12-31', '1971-12-31', '19...</td>\n    </tr>\n    <tr>\n      <th>5</th>\n      <td>4</td>\n      <td>Afghanistan</td>\n      <td>2</td>\n      <td>Medium</td>\n      <td>1978</td>\n      <td>7.450</td>\n      <td>2.275</td>\n      <td>50.599</td>\n      <td>3294.738</td>\n      <td>41.63</td>\n      <td>...</td>\n      <td>1473.434</td>\n      <td>775.431</td>\n      <td>698.003</td>\n      <td>-17.722</td>\n      <td>-1153.959</td>\n      <td>1.025</td>\n      <td>27.971</td>\n      <td>1.06</td>\n      <td>29.871</td>\n      <td>DatetimeIndex(['1975-12-31', '1976-12-31', '19...</td>\n    </tr>\n    <tr>\n      <th>6</th>\n      <td>4</td>\n      <td>Afghanistan</td>\n      <td>2</td>\n      <td>Medium</td>\n      <td>1983</td>\n      <td>7.450</td>\n      <td>2.426</td>\n      <td>50.039</td>\n      <td>3164.281</td>\n      <td>44.97</td>\n      <td>...</td>\n      <td>1237.477</td>\n      <td>651.457</td>\n      <td>586.020</td>\n      <td>-52.898</td>\n      <td>-3345.095</td>\n      <td>-2.245</td>\n      <td>30.470</td>\n      <td>1.06</td>\n      <td>29.904</td>\n      <td>DatetimeIndex(['1980-12-31', '1981-12-31', '19...</td>\n    </tr>\n    <tr>\n      <th>7</th>\n      <td>4</td>\n      <td>Afghanistan</td>\n      <td>2</td>\n      <td>Medium</td>\n      <td>1988</td>\n      <td>7.469</td>\n      <td>2.593</td>\n      <td>49.391</td>\n      <td>3006.757</td>\n      <td>48.56</td>\n      <td>...</td>\n      <td>1007.309</td>\n      <td>531.357</td>\n      <td>475.952</td>\n      <td>-25.057</td>\n      <td>-1525.351</td>\n      <td>0.779</td>\n      <td>32.844</td>\n      <td>1.06</td>\n      <td>29.917</td>\n      <td>DatetimeIndex(['1985-12-31', '1986-12-31', '19...</td>\n    </tr>\n    <tr>\n      <th>8</th>\n      <td>4</td>\n      <td>Afghanistan</td>\n      <td>2</td>\n      <td>Medium</td>\n      <td>1993</td>\n      <td>7.482</td>\n      <td>2.749</td>\n      <td>48.511</td>\n      <td>3701.778</td>\n      <td>51.96</td>\n      <td>...</td>\n      <td>1079.813</td>\n      <td>573.875</td>\n      <td>505.938</td>\n      <td>40.316</td>\n      <td>3076.383</td>\n      <td>7.556</td>\n      <td>34.360</td>\n      <td>1.06</td>\n      <td>29.884</td>\n      <td>DatetimeIndex(['1990-12-31', '1991-12-31', '19...</td>\n    </tr>\n    <tr>\n      <th>9</th>\n      <td>4</td>\n      <td>Afghanistan</td>\n      <td>2</td>\n      <td>Medium</td>\n      <td>1998</td>\n      <td>7.654</td>\n      <td>2.937</td>\n      <td>48.908</td>\n      <td>4755.189</td>\n      <td>54.67</td>\n      <td>...</td>\n      <td>1218.352</td>\n      <td>650.627</td>\n      <td>567.725</td>\n      <td>-8.923</td>\n      <td>-867.540</td>\n      <td>2.750</td>\n      <td>36.377</td>\n      <td>1.06</td>\n      <td>29.779</td>\n      <td>DatetimeIndex(['1995-12-31', '1996-12-31', '19...</td>\n    </tr>\n    <tr>\n      <th>10</th>\n      <td>4</td>\n      <td>Afghanistan</td>\n      <td>2</td>\n      <td>Medium</td>\n      <td>2003</td>\n      <td>7.182</td>\n      <td>2.852</td>\n      <td>46.466</td>\n      <td>5394.050</td>\n      <td>57.00</td>\n      <td>...</td>\n      <td>1263.923</td>\n      <td>675.302</td>\n      <td>588.621</td>\n      <td>6.411</td>\n      <td>744.193</td>\n      <td>4.214</td>\n      <td>35.578</td>\n      <td>1.06</td>\n      <td>29.582</td>\n      <td>DatetimeIndex(['2000-12-31', '2001-12-31', '20...</td>\n    </tr>\n    <tr>\n      <th>11</th>\n      <td>4</td>\n      <td>Afghanistan</td>\n      <td>2</td>\n      <td>Medium</td>\n      <td>2008</td>\n      <td>6.478</td>\n      <td>2.666</td>\n      <td>42.513</td>\n      <td>5828.482</td>\n      <td>59.63</td>\n      <td>...</td>\n      <td>1250.888</td>\n      <td>669.978</td>\n      <td>580.910</td>\n      <td>-7.632</td>\n      <td>-1046.361</td>\n      <td>2.579</td>\n      <td>33.389</td>\n      <td>1.06</td>\n      <td>29.563</td>\n      <td>DatetimeIndex(['2005-12-31', '2006-12-31', '20...</td>\n    </tr>\n    <tr>\n      <th>12</th>\n      <td>4</td>\n      <td>Afghanistan</td>\n      <td>2</td>\n      <td>Medium</td>\n      <td>2013</td>\n      <td>5.447</td>\n      <td>2.319</td>\n      <td>37.098</td>\n      <td>5898.490</td>\n      <td>62.32</td>\n      <td>...</td>\n      <td>1192.155</td>\n      <td>641.196</td>\n      <td>550.959</td>\n      <td>3.282</td>\n      <td>521.769</td>\n      <td>3.296</td>\n      <td>29.600</td>\n      <td>1.06</td>\n      <td>29.377</td>\n      <td>DatetimeIndex(['2010-12-31', '2011-12-31', '20...</td>\n    </tr>\n    <tr>\n      <th>13</th>\n      <td>4</td>\n      <td>Afghanistan</td>\n      <td>2</td>\n      <td>Medium</td>\n      <td>2018</td>\n      <td>4.555</td>\n      <td>1.984</td>\n      <td>32.856</td>\n      <td>6024.265</td>\n      <td>64.28</td>\n      <td>...</td>\n      <td>1194.929</td>\n      <td>646.140</td>\n      <td>548.789</td>\n      <td>-1.716</td>\n      <td>-314.602</td>\n      <td>2.465</td>\n      <td>26.339</td>\n      <td>1.06</td>\n      <td>29.427</td>\n      <td>DatetimeIndex(['2015-12-31', '2016-12-31', '20...</td>\n    </tr>\n    <tr>\n      <th>14</th>\n      <td>4</td>\n      <td>Afghanistan</td>\n      <td>2</td>\n      <td>Medium</td>\n      <td>2023</td>\n      <td>3.851</td>\n      <td>1.710</td>\n      <td>29.680</td>\n      <td>6118.618</td>\n      <td>65.97</td>\n      <td>...</td>\n      <td>1215.439</td>\n      <td>660.197</td>\n      <td>555.242</td>\n      <td>-1.455</td>\n      <td>-300.000</td>\n      <td>2.235</td>\n      <td>23.784</td>\n      <td>1.06</td>\n      <td>29.357</td>\n      <td>DatetimeIndex(['2020-12-31', '2021-12-31', '20...</td>\n    </tr>\n    <tr>\n      <th>15</th>\n      <td>4</td>\n      <td>Afghanistan</td>\n      <td>2</td>\n      <td>Medium</td>\n      <td>2028</td>\n      <td>3.301</td>\n      <td>1.488</td>\n      <td>26.878</td>\n      <td>6156.694</td>\n      <td>67.38</td>\n      <td>...</td>\n      <td>1264.548</td>\n      <td>691.018</td>\n      <td>573.530</td>\n      <td>-1.441</td>\n      <td>-330.092</td>\n      <td>1.993</td>\n      <td>21.357</td>\n      <td>1.06</td>\n      <td>29.297</td>\n      <td>DatetimeIndex(['2025-12-31', '2026-12-31', '20...</td>\n    </tr>\n    <tr>\n      <th>16</th>\n      <td>4</td>\n      <td>Afghanistan</td>\n      <td>2</td>\n      <td>Medium</td>\n      <td>2033</td>\n      <td>2.908</td>\n      <td>1.326</td>\n      <td>24.429</td>\n      <td>6148.908</td>\n      <td>68.55</td>\n      <td>...</td>\n      <td>1343.278</td>\n      <td>738.962</td>\n      <td>604.316</td>\n      <td>-1.239</td>\n      <td>-311.796</td>\n      <td>1.787</td>\n      <td>19.092</td>\n      <td>1.06</td>\n      <td>29.250</td>\n      <td>DatetimeIndex(['2030-12-31', '2031-12-31', '20...</td>\n    </tr>\n    <tr>\n      <th>17</th>\n      <td>4</td>\n      <td>Afghanistan</td>\n      <td>2</td>\n      <td>Medium</td>\n      <td>2038</td>\n      <td>2.632</td>\n      <td>1.211</td>\n      <td>22.235</td>\n      <td>6086.715</td>\n      <td>69.57</td>\n      <td>...</td>\n      <td>1450.316</td>\n      <td>802.852</td>\n      <td>647.464</td>\n      <td>-1.139</td>\n      <td>-311.802</td>\n      <td>1.581</td>\n      <td>16.937</td>\n      <td>1.06</td>\n      <td>29.216</td>\n      <td>DatetimeIndex(['2035-12-31', '2036-12-31', '20...</td>\n    </tr>\n    <tr>\n      <th>18</th>\n      <td>4</td>\n      <td>Afghanistan</td>\n      <td>2</td>\n      <td>Medium</td>\n      <td>2043</td>\n      <td>2.426</td>\n      <td>1.125</td>\n      <td>20.241</td>\n      <td>5965.370</td>\n      <td>70.47</td>\n      <td>...</td>\n      <td>1592.187</td>\n      <td>885.988</td>\n      <td>706.199</td>\n      <td>-1.056</td>\n      <td>-311.082</td>\n      <td>1.379</td>\n      <td>14.839</td>\n      <td>1.06</td>\n      <td>29.197</td>\n      <td>DatetimeIndex(['2040-12-31', '2041-12-31', '20...</td>\n    </tr>\n    <tr>\n      <th>19</th>\n      <td>4</td>\n      <td>Afghanistan</td>\n      <td>2</td>\n      <td>Medium</td>\n      <td>2048</td>\n      <td>2.260</td>\n      <td>1.053</td>\n      <td>18.435</td>\n      <td>5791.247</td>\n      <td>71.28</td>\n      <td>...</td>\n      <td>1772.304</td>\n      <td>989.964</td>\n      <td>782.340</td>\n      <td>-0.987</td>\n      <td>-310.076</td>\n      <td>1.181</td>\n      <td>12.793</td>\n      <td>1.06</td>\n      <td>29.194</td>\n      <td>DatetimeIndex(['2045-12-31', '2046-12-31', '20...</td>\n    </tr>\n  </tbody>\n</table>\n<p>20 rows × 25 columns</p>\n</div>"
     },
     "metadata": {},
     "execution_count": 55
    }
   ],
   "source": [
    "df.head(20)"
   ]
  },
  {
   "cell_type": "code",
   "execution_count": 56,
   "metadata": {},
   "outputs": [],
   "source": [
    "df = df.explode('Date')"
   ]
  },
  {
   "cell_type": "code",
   "execution_count": 57,
   "metadata": {},
   "outputs": [
    {
     "output_type": "execute_result",
     "data": {
      "text/plain": [
       "   LocID     Location  VarID Variant  MidPeriod   TFR    NRR     CBR  \\\n",
       "0      4  Afghanistan      2  Medium       1953  7.45  1.636  50.314   \n",
       "0      4  Afghanistan      2  Medium       1953  7.45  1.636  50.314   \n",
       "0      4  Afghanistan      2  Medium       1953  7.45  1.636  50.314   \n",
       "0      4  Afghanistan      2  Medium       1953  7.45  1.636  50.314   \n",
       "0      4  Afghanistan      2  Medium       1953  7.45  1.636  50.314   \n",
       "1      4  Afghanistan      2  Medium       1958  7.45  1.765  50.998   \n",
       "1      4  Afghanistan      2  Medium       1958  7.45  1.765  50.998   \n",
       "1      4  Afghanistan      2  Medium       1958  7.45  1.765  50.998   \n",
       "1      4  Afghanistan      2  Medium       1958  7.45  1.765  50.998   \n",
       "1      4  Afghanistan      2  Medium       1958  7.45  1.765  50.998   \n",
       "2      4  Afghanistan      2  Medium       1963  7.45  1.899  51.477   \n",
       "2      4  Afghanistan      2  Medium       1963  7.45  1.899  51.477   \n",
       "2      4  Afghanistan      2  Medium       1963  7.45  1.899  51.477   \n",
       "2      4  Afghanistan      2  Medium       1963  7.45  1.899  51.477   \n",
       "2      4  Afghanistan      2  Medium       1963  7.45  1.899  51.477   \n",
       "3      4  Afghanistan      2  Medium       1968  7.45  2.017  51.646   \n",
       "3      4  Afghanistan      2  Medium       1968  7.45  2.017  51.646   \n",
       "3      4  Afghanistan      2  Medium       1968  7.45  2.017  51.646   \n",
       "3      4  Afghanistan      2  Medium       1968  7.45  2.017  51.646   \n",
       "3      4  Afghanistan      2  Medium       1968  7.45  2.017  51.646   \n",
       "\n",
       "     Births    LEx  ...    Deaths  DeathsMale  DeathsFemale   CNMR  \\\n",
       "0  2015.476  28.61  ...  1476.605     794.020       682.585 -0.499   \n",
       "0  2015.476  28.61  ...  1476.605     794.020       682.585 -0.499   \n",
       "0  2015.476  28.61  ...  1476.605     794.020       682.585 -0.499   \n",
       "0  2015.476  28.61  ...  1476.605     794.020       682.585 -0.499   \n",
       "0  2015.476  28.61  ...  1476.605     794.020       682.585 -0.499   \n",
       "1  2201.589  31.13  ...  1455.605     783.110       672.495 -0.463   \n",
       "1  2201.589  31.13  ...  1455.605     783.110       672.495 -0.463   \n",
       "1  2201.589  31.13  ...  1455.605     783.110       672.495 -0.463   \n",
       "1  2201.589  31.13  ...  1455.605     783.110       672.495 -0.463   \n",
       "1  2201.589  31.13  ...  1455.605     783.110       672.495 -0.463   \n",
       "2  2439.130  33.74  ...  1459.784     777.437       682.347 -0.422   \n",
       "2  2439.130  33.74  ...  1459.784     777.437       682.347 -0.422   \n",
       "2  2439.130  33.74  ...  1459.784     777.437       682.347 -0.422   \n",
       "2  2439.130  33.74  ...  1459.784     777.437       682.347 -0.422   \n",
       "2  2439.130  33.74  ...  1459.784     777.437       682.347 -0.422   \n",
       "3  2728.221  36.15  ...  1490.896     790.745       700.151 -0.379   \n",
       "3  2728.221  36.15  ...  1490.896     790.745       700.151 -0.379   \n",
       "3  2728.221  36.15  ...  1490.896     790.745       700.151 -0.379   \n",
       "3  2728.221  36.15  ...  1490.896     790.745       700.151 -0.379   \n",
       "3  2728.221  36.15  ...  1490.896     790.745       700.151 -0.379   \n",
       "\n",
       "   NetMigrations  GrowthRate  NatIncr   SRB     MAC       Date  \n",
       "0          -20.0       1.296   13.452  1.06  29.835 1950-12-31  \n",
       "0          -20.0       1.296   13.452  1.06  29.835 1951-12-31  \n",
       "0          -20.0       1.296   13.452  1.06  29.835 1952-12-31  \n",
       "0          -20.0       1.296   13.452  1.06  29.835 1953-12-31  \n",
       "0          -20.0       1.296   13.452  1.06  29.835 1954-12-31  \n",
       "1          -20.0       1.683   17.280  1.06  29.835 1955-12-31  \n",
       "1          -20.0       1.683   17.280  1.06  29.835 1956-12-31  \n",
       "1          -20.0       1.683   17.280  1.06  29.835 1957-12-31  \n",
       "1          -20.0       1.683   17.280  1.06  29.835 1958-12-31  \n",
       "1          -20.0       1.683   17.280  1.06  29.835 1959-12-31  \n",
       "2          -20.0       2.026   20.669  1.06  29.835 1960-12-31  \n",
       "2          -20.0       2.026   20.669  1.06  29.835 1961-12-31  \n",
       "2          -20.0       2.026   20.669  1.06  29.835 1962-12-31  \n",
       "2          -20.0       2.026   20.669  1.06  29.835 1963-12-31  \n",
       "2          -20.0       2.026   20.669  1.06  29.835 1964-12-31  \n",
       "3          -20.0       2.307   23.423  1.06  29.835 1965-12-31  \n",
       "3          -20.0       2.307   23.423  1.06  29.835 1966-12-31  \n",
       "3          -20.0       2.307   23.423  1.06  29.835 1967-12-31  \n",
       "3          -20.0       2.307   23.423  1.06  29.835 1968-12-31  \n",
       "3          -20.0       2.307   23.423  1.06  29.835 1969-12-31  \n",
       "\n",
       "[20 rows x 25 columns]"
      ],
      "text/html": "<div>\n<style scoped>\n    .dataframe tbody tr th:only-of-type {\n        vertical-align: middle;\n    }\n\n    .dataframe tbody tr th {\n        vertical-align: top;\n    }\n\n    .dataframe thead th {\n        text-align: right;\n    }\n</style>\n<table border=\"1\" class=\"dataframe\">\n  <thead>\n    <tr style=\"text-align: right;\">\n      <th></th>\n      <th>LocID</th>\n      <th>Location</th>\n      <th>VarID</th>\n      <th>Variant</th>\n      <th>MidPeriod</th>\n      <th>TFR</th>\n      <th>NRR</th>\n      <th>CBR</th>\n      <th>Births</th>\n      <th>LEx</th>\n      <th>...</th>\n      <th>Deaths</th>\n      <th>DeathsMale</th>\n      <th>DeathsFemale</th>\n      <th>CNMR</th>\n      <th>NetMigrations</th>\n      <th>GrowthRate</th>\n      <th>NatIncr</th>\n      <th>SRB</th>\n      <th>MAC</th>\n      <th>Date</th>\n    </tr>\n  </thead>\n  <tbody>\n    <tr>\n      <th>0</th>\n      <td>4</td>\n      <td>Afghanistan</td>\n      <td>2</td>\n      <td>Medium</td>\n      <td>1953</td>\n      <td>7.45</td>\n      <td>1.636</td>\n      <td>50.314</td>\n      <td>2015.476</td>\n      <td>28.61</td>\n      <td>...</td>\n      <td>1476.605</td>\n      <td>794.020</td>\n      <td>682.585</td>\n      <td>-0.499</td>\n      <td>-20.0</td>\n      <td>1.296</td>\n      <td>13.452</td>\n      <td>1.06</td>\n      <td>29.835</td>\n      <td>1950-12-31</td>\n    </tr>\n    <tr>\n      <th>0</th>\n      <td>4</td>\n      <td>Afghanistan</td>\n      <td>2</td>\n      <td>Medium</td>\n      <td>1953</td>\n      <td>7.45</td>\n      <td>1.636</td>\n      <td>50.314</td>\n      <td>2015.476</td>\n      <td>28.61</td>\n      <td>...</td>\n      <td>1476.605</td>\n      <td>794.020</td>\n      <td>682.585</td>\n      <td>-0.499</td>\n      <td>-20.0</td>\n      <td>1.296</td>\n      <td>13.452</td>\n      <td>1.06</td>\n      <td>29.835</td>\n      <td>1951-12-31</td>\n    </tr>\n    <tr>\n      <th>0</th>\n      <td>4</td>\n      <td>Afghanistan</td>\n      <td>2</td>\n      <td>Medium</td>\n      <td>1953</td>\n      <td>7.45</td>\n      <td>1.636</td>\n      <td>50.314</td>\n      <td>2015.476</td>\n      <td>28.61</td>\n      <td>...</td>\n      <td>1476.605</td>\n      <td>794.020</td>\n      <td>682.585</td>\n      <td>-0.499</td>\n      <td>-20.0</td>\n      <td>1.296</td>\n      <td>13.452</td>\n      <td>1.06</td>\n      <td>29.835</td>\n      <td>1952-12-31</td>\n    </tr>\n    <tr>\n      <th>0</th>\n      <td>4</td>\n      <td>Afghanistan</td>\n      <td>2</td>\n      <td>Medium</td>\n      <td>1953</td>\n      <td>7.45</td>\n      <td>1.636</td>\n      <td>50.314</td>\n      <td>2015.476</td>\n      <td>28.61</td>\n      <td>...</td>\n      <td>1476.605</td>\n      <td>794.020</td>\n      <td>682.585</td>\n      <td>-0.499</td>\n      <td>-20.0</td>\n      <td>1.296</td>\n      <td>13.452</td>\n      <td>1.06</td>\n      <td>29.835</td>\n      <td>1953-12-31</td>\n    </tr>\n    <tr>\n      <th>0</th>\n      <td>4</td>\n      <td>Afghanistan</td>\n      <td>2</td>\n      <td>Medium</td>\n      <td>1953</td>\n      <td>7.45</td>\n      <td>1.636</td>\n      <td>50.314</td>\n      <td>2015.476</td>\n      <td>28.61</td>\n      <td>...</td>\n      <td>1476.605</td>\n      <td>794.020</td>\n      <td>682.585</td>\n      <td>-0.499</td>\n      <td>-20.0</td>\n      <td>1.296</td>\n      <td>13.452</td>\n      <td>1.06</td>\n      <td>29.835</td>\n      <td>1954-12-31</td>\n    </tr>\n    <tr>\n      <th>1</th>\n      <td>4</td>\n      <td>Afghanistan</td>\n      <td>2</td>\n      <td>Medium</td>\n      <td>1958</td>\n      <td>7.45</td>\n      <td>1.765</td>\n      <td>50.998</td>\n      <td>2201.589</td>\n      <td>31.13</td>\n      <td>...</td>\n      <td>1455.605</td>\n      <td>783.110</td>\n      <td>672.495</td>\n      <td>-0.463</td>\n      <td>-20.0</td>\n      <td>1.683</td>\n      <td>17.280</td>\n      <td>1.06</td>\n      <td>29.835</td>\n      <td>1955-12-31</td>\n    </tr>\n    <tr>\n      <th>1</th>\n      <td>4</td>\n      <td>Afghanistan</td>\n      <td>2</td>\n      <td>Medium</td>\n      <td>1958</td>\n      <td>7.45</td>\n      <td>1.765</td>\n      <td>50.998</td>\n      <td>2201.589</td>\n      <td>31.13</td>\n      <td>...</td>\n      <td>1455.605</td>\n      <td>783.110</td>\n      <td>672.495</td>\n      <td>-0.463</td>\n      <td>-20.0</td>\n      <td>1.683</td>\n      <td>17.280</td>\n      <td>1.06</td>\n      <td>29.835</td>\n      <td>1956-12-31</td>\n    </tr>\n    <tr>\n      <th>1</th>\n      <td>4</td>\n      <td>Afghanistan</td>\n      <td>2</td>\n      <td>Medium</td>\n      <td>1958</td>\n      <td>7.45</td>\n      <td>1.765</td>\n      <td>50.998</td>\n      <td>2201.589</td>\n      <td>31.13</td>\n      <td>...</td>\n      <td>1455.605</td>\n      <td>783.110</td>\n      <td>672.495</td>\n      <td>-0.463</td>\n      <td>-20.0</td>\n      <td>1.683</td>\n      <td>17.280</td>\n      <td>1.06</td>\n      <td>29.835</td>\n      <td>1957-12-31</td>\n    </tr>\n    <tr>\n      <th>1</th>\n      <td>4</td>\n      <td>Afghanistan</td>\n      <td>2</td>\n      <td>Medium</td>\n      <td>1958</td>\n      <td>7.45</td>\n      <td>1.765</td>\n      <td>50.998</td>\n      <td>2201.589</td>\n      <td>31.13</td>\n      <td>...</td>\n      <td>1455.605</td>\n      <td>783.110</td>\n      <td>672.495</td>\n      <td>-0.463</td>\n      <td>-20.0</td>\n      <td>1.683</td>\n      <td>17.280</td>\n      <td>1.06</td>\n      <td>29.835</td>\n      <td>1958-12-31</td>\n    </tr>\n    <tr>\n      <th>1</th>\n      <td>4</td>\n      <td>Afghanistan</td>\n      <td>2</td>\n      <td>Medium</td>\n      <td>1958</td>\n      <td>7.45</td>\n      <td>1.765</td>\n      <td>50.998</td>\n      <td>2201.589</td>\n      <td>31.13</td>\n      <td>...</td>\n      <td>1455.605</td>\n      <td>783.110</td>\n      <td>672.495</td>\n      <td>-0.463</td>\n      <td>-20.0</td>\n      <td>1.683</td>\n      <td>17.280</td>\n      <td>1.06</td>\n      <td>29.835</td>\n      <td>1959-12-31</td>\n    </tr>\n    <tr>\n      <th>2</th>\n      <td>4</td>\n      <td>Afghanistan</td>\n      <td>2</td>\n      <td>Medium</td>\n      <td>1963</td>\n      <td>7.45</td>\n      <td>1.899</td>\n      <td>51.477</td>\n      <td>2439.130</td>\n      <td>33.74</td>\n      <td>...</td>\n      <td>1459.784</td>\n      <td>777.437</td>\n      <td>682.347</td>\n      <td>-0.422</td>\n      <td>-20.0</td>\n      <td>2.026</td>\n      <td>20.669</td>\n      <td>1.06</td>\n      <td>29.835</td>\n      <td>1960-12-31</td>\n    </tr>\n    <tr>\n      <th>2</th>\n      <td>4</td>\n      <td>Afghanistan</td>\n      <td>2</td>\n      <td>Medium</td>\n      <td>1963</td>\n      <td>7.45</td>\n      <td>1.899</td>\n      <td>51.477</td>\n      <td>2439.130</td>\n      <td>33.74</td>\n      <td>...</td>\n      <td>1459.784</td>\n      <td>777.437</td>\n      <td>682.347</td>\n      <td>-0.422</td>\n      <td>-20.0</td>\n      <td>2.026</td>\n      <td>20.669</td>\n      <td>1.06</td>\n      <td>29.835</td>\n      <td>1961-12-31</td>\n    </tr>\n    <tr>\n      <th>2</th>\n      <td>4</td>\n      <td>Afghanistan</td>\n      <td>2</td>\n      <td>Medium</td>\n      <td>1963</td>\n      <td>7.45</td>\n      <td>1.899</td>\n      <td>51.477</td>\n      <td>2439.130</td>\n      <td>33.74</td>\n      <td>...</td>\n      <td>1459.784</td>\n      <td>777.437</td>\n      <td>682.347</td>\n      <td>-0.422</td>\n      <td>-20.0</td>\n      <td>2.026</td>\n      <td>20.669</td>\n      <td>1.06</td>\n      <td>29.835</td>\n      <td>1962-12-31</td>\n    </tr>\n    <tr>\n      <th>2</th>\n      <td>4</td>\n      <td>Afghanistan</td>\n      <td>2</td>\n      <td>Medium</td>\n      <td>1963</td>\n      <td>7.45</td>\n      <td>1.899</td>\n      <td>51.477</td>\n      <td>2439.130</td>\n      <td>33.74</td>\n      <td>...</td>\n      <td>1459.784</td>\n      <td>777.437</td>\n      <td>682.347</td>\n      <td>-0.422</td>\n      <td>-20.0</td>\n      <td>2.026</td>\n      <td>20.669</td>\n      <td>1.06</td>\n      <td>29.835</td>\n      <td>1963-12-31</td>\n    </tr>\n    <tr>\n      <th>2</th>\n      <td>4</td>\n      <td>Afghanistan</td>\n      <td>2</td>\n      <td>Medium</td>\n      <td>1963</td>\n      <td>7.45</td>\n      <td>1.899</td>\n      <td>51.477</td>\n      <td>2439.130</td>\n      <td>33.74</td>\n      <td>...</td>\n      <td>1459.784</td>\n      <td>777.437</td>\n      <td>682.347</td>\n      <td>-0.422</td>\n      <td>-20.0</td>\n      <td>2.026</td>\n      <td>20.669</td>\n      <td>1.06</td>\n      <td>29.835</td>\n      <td>1964-12-31</td>\n    </tr>\n    <tr>\n      <th>3</th>\n      <td>4</td>\n      <td>Afghanistan</td>\n      <td>2</td>\n      <td>Medium</td>\n      <td>1968</td>\n      <td>7.45</td>\n      <td>2.017</td>\n      <td>51.646</td>\n      <td>2728.221</td>\n      <td>36.15</td>\n      <td>...</td>\n      <td>1490.896</td>\n      <td>790.745</td>\n      <td>700.151</td>\n      <td>-0.379</td>\n      <td>-20.0</td>\n      <td>2.307</td>\n      <td>23.423</td>\n      <td>1.06</td>\n      <td>29.835</td>\n      <td>1965-12-31</td>\n    </tr>\n    <tr>\n      <th>3</th>\n      <td>4</td>\n      <td>Afghanistan</td>\n      <td>2</td>\n      <td>Medium</td>\n      <td>1968</td>\n      <td>7.45</td>\n      <td>2.017</td>\n      <td>51.646</td>\n      <td>2728.221</td>\n      <td>36.15</td>\n      <td>...</td>\n      <td>1490.896</td>\n      <td>790.745</td>\n      <td>700.151</td>\n      <td>-0.379</td>\n      <td>-20.0</td>\n      <td>2.307</td>\n      <td>23.423</td>\n      <td>1.06</td>\n      <td>29.835</td>\n      <td>1966-12-31</td>\n    </tr>\n    <tr>\n      <th>3</th>\n      <td>4</td>\n      <td>Afghanistan</td>\n      <td>2</td>\n      <td>Medium</td>\n      <td>1968</td>\n      <td>7.45</td>\n      <td>2.017</td>\n      <td>51.646</td>\n      <td>2728.221</td>\n      <td>36.15</td>\n      <td>...</td>\n      <td>1490.896</td>\n      <td>790.745</td>\n      <td>700.151</td>\n      <td>-0.379</td>\n      <td>-20.0</td>\n      <td>2.307</td>\n      <td>23.423</td>\n      <td>1.06</td>\n      <td>29.835</td>\n      <td>1967-12-31</td>\n    </tr>\n    <tr>\n      <th>3</th>\n      <td>4</td>\n      <td>Afghanistan</td>\n      <td>2</td>\n      <td>Medium</td>\n      <td>1968</td>\n      <td>7.45</td>\n      <td>2.017</td>\n      <td>51.646</td>\n      <td>2728.221</td>\n      <td>36.15</td>\n      <td>...</td>\n      <td>1490.896</td>\n      <td>790.745</td>\n      <td>700.151</td>\n      <td>-0.379</td>\n      <td>-20.0</td>\n      <td>2.307</td>\n      <td>23.423</td>\n      <td>1.06</td>\n      <td>29.835</td>\n      <td>1968-12-31</td>\n    </tr>\n    <tr>\n      <th>3</th>\n      <td>4</td>\n      <td>Afghanistan</td>\n      <td>2</td>\n      <td>Medium</td>\n      <td>1968</td>\n      <td>7.45</td>\n      <td>2.017</td>\n      <td>51.646</td>\n      <td>2728.221</td>\n      <td>36.15</td>\n      <td>...</td>\n      <td>1490.896</td>\n      <td>790.745</td>\n      <td>700.151</td>\n      <td>-0.379</td>\n      <td>-20.0</td>\n      <td>2.307</td>\n      <td>23.423</td>\n      <td>1.06</td>\n      <td>29.835</td>\n      <td>1969-12-31</td>\n    </tr>\n  </tbody>\n</table>\n<p>20 rows × 25 columns</p>\n</div>"
     },
     "metadata": {},
     "execution_count": 57
    }
   ],
   "source": [
    "df.head(20)"
   ]
  },
  {
   "cell_type": "code",
   "execution_count": 58,
   "metadata": {},
   "outputs": [],
   "source": [
    "df = df.groupby(['Location', 'Date']).mean().reset_index()"
   ]
  },
  {
   "cell_type": "code",
   "execution_count": 59,
   "metadata": {},
   "outputs": [],
   "source": [
    "df.to_csv('../WPP2019_Fertility_by_Age.csv')"
   ]
  },
  {
   "cell_type": "code",
   "execution_count": null,
   "metadata": {},
   "outputs": [],
   "source": []
  }
 ],
 "metadata": {
  "kernelspec": {
   "display_name": "Python 3",
   "language": "python",
   "name": "python3"
  },
  "language_info": {
   "codemirror_mode": {
    "name": "ipython",
    "version": 2
   },
   "file_extension": ".py",
   "mimetype": "text/x-python",
   "name": "python",
   "nbconvert_exporter": "python",
   "pygments_lexer": "ipython2",
   "version": "3.8.5-final"
  }
 },
 "nbformat": 4,
 "nbformat_minor": 0
}